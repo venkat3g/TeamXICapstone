{
 "cells": [
  {
   "cell_type": "code",
   "execution_count": 1,
   "metadata": {},
   "outputs": [],
   "source": [
    "# import necessary libraries\n",
    "from gui.modulation.Modulation import ModulationFactory\n",
    "import numpy as np\n",
    "from scipy import signal as sig\n",
    "import matplotlib.pyplot as plt\n",
    "from timeit import default_timer as timer\n",
    "from gui.networking.xi import XIPacket"
   ]
  },
  {
   "cell_type": "code",
   "execution_count": 2,
   "metadata": {},
   "outputs": [],
   "source": [
    "# Create different instances for each mod scheme\n",
    "qpsk = ModulationFactory.chooseScheme('qpsk')\n",
    "qam4 = ModulationFactory.chooseScheme('qam', m=4)\n",
    "qam16 = ModulationFactory.chooseScheme('qam', m=4**2)\n",
    "qam64 = ModulationFactory.chooseScheme('qam', m=4**3)"
   ]
  },
  {
   "cell_type": "code",
   "execution_count": 3,
   "metadata": {},
   "outputs": [
    {
     "name": "stdout",
     "output_type": "stream",
     "text": [
      "<gui.modulation.Modulation._QPSK instance at 0x0000000029ED32C8>\n",
      "<gui.modulation.Modulation._QAM instance at 0x0000000029ED3248>\n",
      "<gui.modulation.Modulation._QAM instance at 0x0000000029ED31C8>\n",
      "<gui.modulation.Modulation._QAM instance at 0x0000000029ED3308>\n"
     ]
    }
   ],
   "source": [
    "# Show that all instances are different\n",
    "print(qpsk)\n",
    "print(qam4)\n",
    "print(qam16)\n",
    "print(qam64)"
   ]
  },
  {
   "cell_type": "code",
   "execution_count": 4,
   "metadata": {},
   "outputs": [],
   "source": [
    "# Create Max Message Size for XIPacket\n",
    "msg = \"\".join([chr(ord('a') + (x % 26)) for x in range(2**10 - 1)])"
   ]
  },
  {
   "cell_type": "code",
   "execution_count": 5,
   "metadata": {},
   "outputs": [
    {
     "name": "stdout",
     "output_type": "stream",
     "text": [
      "QPSK:\n",
      "100 loops, best of 3: 5.36 ms per loop\n",
      "4-QAM:\n",
      "100 loops, best of 3: 10.1 ms per loop\n",
      "16-QAM:\n",
      "100 loops, best of 3: 6.23 ms per loop\n",
      "64-QAM:\n",
      "100 loops, best of 3: 4.82 ms per loop\n"
     ]
    }
   ],
   "source": [
    "# Show Symbol Mapping Time for each scheme\n",
    "print(\"QPSK:\")\n",
    "%timeit qpskSymbols = qpsk.symbolMap(msg)\n",
    "print(\"4-QAM:\")\n",
    "%timeit qam4Symbols = qam4.symbolMap(msg)\n",
    "print(\"16-QAM:\")\n",
    "%timeit qam16Symbols = qam16.symbolMap(msg)\n",
    "print(\"64-QAM:\")\n",
    "%timeit qam64Symbols = qam64.symbolMap(msg)"
   ]
  },
  {
   "cell_type": "code",
   "execution_count": 6,
   "metadata": {},
   "outputs": [
    {
     "name": "stdout",
     "output_type": "stream",
     "text": [
      "QPSK message valid:\n",
      "True\n",
      "4-QAM message valid:\n",
      "True\n",
      "16-QAM message valid:\n",
      "True\n",
      "64-QAM message valid:\n",
      "True\n",
      "4-QAM Vectorized message valid:\n",
      "True\n",
      "16-QAM Vectorized message valid:\n",
      "True\n",
      "64-QAM Vectorized message valid:\n",
      "False\n"
     ]
    }
   ],
   "source": [
    "# Verify symbol mapping and demapping works\n",
    "qpskSymbols = qpsk.symbolMap(msg)\n",
    "qam4Symbols = qam4.symbolMap(msg)\n",
    "qam16Symbols = qam16.symbolMap(msg)\n",
    "qam64Symbols = qam64.symbolMap(msg)\n",
    "\n",
    "qpskBytes = qpsk.symbolDemap(qpskSymbols)\n",
    "qam4Bytes = qam4.symbolDemap(qam4Symbols)\n",
    "qam16Bytes = qam16.symbolDemap(qam16Symbols)\n",
    "qam64Bytes = qam64.symbolDemap(qam64Symbols)\n",
    "\n",
    "qam4VectorizedBytes = qam4.symbolVectorizedDemap(qam4Symbols)\n",
    "qam16VectorizedBytes = qam16.symbolVectorizedDemap(qam16Symbols)\n",
    "qam64VectorizedBytes = qam64.symbolVectorizedDemap(qam64Symbols)\n",
    "\n",
    "qpskMsg = \"\".join([chr(x) for x in qpskBytes])\n",
    "qam4Msg = \"\".join([chr(x) for x in qam4Bytes])\n",
    "qam16Msg = \"\".join([chr(x) for x in qam16Bytes])\n",
    "qam64Msg = \"\".join([chr(x) for x in qam64Bytes])\n",
    "\n",
    "qam4VectorizedMsg = \"\".join([chr(x) for x in qam4VectorizedBytes])\n",
    "qam16VectorizedMsg = \"\".join([chr(x) for x in qam16VectorizedBytes])\n",
    "qam64VectorizedMsg = \"\".join([chr(x) for x in qam64VectorizedBytes])\n",
    "\n",
    "\n",
    "print(\"QPSK message valid:\")\n",
    "print(qpskMsg == msg)\n",
    "\n",
    "print(\"4-QAM message valid:\")\n",
    "print(qam4Msg == msg)\n",
    "\n",
    "print(\"16-QAM message valid:\")\n",
    "print(qam16Msg == msg)\n",
    "\n",
    "print(\"64-QAM message valid:\")\n",
    "print(qam64Msg == msg)\n",
    "\n",
    "print(\"4-QAM Vectorized message valid:\")\n",
    "print(qam4VectorizedMsg == msg)\n",
    "\n",
    "print(\"16-QAM Vectorized message valid:\")\n",
    "print(qam16VectorizedMsg == msg)\n",
    "\n",
    "# Current implemenation of vectorized only works for 4, 16\n",
    "print(\"64-QAM Vectorized message valid:\")\n",
    "print(qam64VectorizedMsg == msg)"
   ]
  },
  {
   "cell_type": "code",
   "execution_count": 7,
   "metadata": {},
   "outputs": [
    {
     "name": "stdout",
     "output_type": "stream",
     "text": [
      "QPSK:\n",
      "100 loops, best of 3: 7.82 ms per loop\n",
      "4-QAM:\n",
      "10 loops, best of 3: 24.9 ms per loop\n",
      "16-QAM:\n",
      "100 loops, best of 3: 13.7 ms per loop\n",
      "64-QAM:\n",
      "100 loops, best of 3: 9.94 ms per loop\n"
     ]
    }
   ],
   "source": [
    "# Show Symbol Demapping Time for each scheme\n",
    "print(\"QPSK:\")\n",
    "%timeit qpsk.symbolDemap(qpskSymbols)\n",
    "print(\"4-QAM:\")\n",
    "%timeit qam4.symbolDemap(qam4Symbols)\n",
    "print(\"16-QAM:\")\n",
    "%timeit qam16.symbolDemap(qam16Symbols)\n",
    "print(\"64-QAM:\")\n",
    "%timeit qam64.symbolDemap(qam64Symbols)"
   ]
  },
  {
   "cell_type": "code",
   "execution_count": 8,
   "metadata": {},
   "outputs": [
    {
     "name": "stdout",
     "output_type": "stream",
     "text": [
      "4-QAM:\n",
      "100 loops, best of 3: 5.42 ms per loop\n",
      "16-QAM:\n",
      "100 loops, best of 3: 4.23 ms per loop\n",
      "64-QAM:\n",
      "100 loops, best of 3: 3.51 ms per loop\n"
     ]
    }
   ],
   "source": [
    "# Vectorized Implementation Performance\n",
    "print(\"4-QAM:\")\n",
    "%timeit qam4.symbolVectorizedDemap(qam4Symbols)\n",
    "print(\"16-QAM:\")\n",
    "%timeit qam16.symbolVectorizedDemap(qam16Symbols)\n",
    "# Theoretical since 64-QAM vectorized isn't yet supported\n",
    "print(\"64-QAM:\")\n",
    "%timeit qam64.symbolVectorizedDemap(qam64Symbols)"
   ]
  },
  {
   "cell_type": "code",
   "execution_count": null,
   "metadata": {},
   "outputs": [],
   "source": []
  }
 ],
 "metadata": {
  "file_extension": ".py",
  "kernelspec": {
   "display_name": "Python 2",
   "language": "python",
   "name": "python2"
  },
  "language_info": {
   "codemirror_mode": {
    "name": "ipython",
    "version": 2
   },
   "file_extension": ".py",
   "mimetype": "text/x-python",
   "name": "python",
   "nbconvert_exporter": "python",
   "pygments_lexer": "ipython2",
   "version": "2.7.15"
  },
  "mimetype": "text/x-python",
  "name": "python",
  "npconvert_exporter": "python",
  "pygments_lexer": "ipython2",
  "version": 2
 },
 "nbformat": 4,
 "nbformat_minor": 2
}
